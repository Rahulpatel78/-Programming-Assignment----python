{
 "cells": [
  {
   "cell_type": "markdown",
   "id": "baf4f9fe",
   "metadata": {},
   "source": [
    "## 1. Write a Python program to find sum of elements in list?"
   ]
  },
  {
   "cell_type": "code",
   "execution_count": 1,
   "id": "53483708",
   "metadata": {},
   "outputs": [
    {
     "name": "stdout",
     "output_type": "stream",
     "text": [
      "262\n"
     ]
    }
   ],
   "source": [
    "l = [52,63,89,12,14,32]\n",
    "sum = 0\n",
    "\n",
    "for i in l:\n",
    "    sum += i\n",
    "    \n",
    "print(sum)"
   ]
  },
  {
   "cell_type": "code",
   "execution_count": 2,
   "id": "ccc8d2f8",
   "metadata": {},
   "outputs": [
    {
     "name": "stdout",
     "output_type": "stream",
     "text": [
      "262\n"
     ]
    }
   ],
   "source": [
    "total = 0\n",
    "[total := total + x for x in [52, 63, 89, 12, 14, 32]]\n",
    "\n",
    "print(total)"
   ]
  },
  {
   "cell_type": "markdown",
   "id": "50c95a30",
   "metadata": {},
   "source": [
    "## 2. Write a Python program to Multiply all numbers in the list?"
   ]
  },
  {
   "cell_type": "code",
   "execution_count": 3,
   "id": "6fc1077e",
   "metadata": {},
   "outputs": [
    {
     "name": "stdout",
     "output_type": "stream",
     "text": [
      "720\n"
     ]
    }
   ],
   "source": [
    "l = [5,6,3,8]\n",
    "product = 1\n",
    "\n",
    "for i in l:\n",
    "    product *= i\n",
    "    \n",
    "print(product)\n",
    "    "
   ]
  },
  {
   "cell_type": "markdown",
   "id": "704f66ab",
   "metadata": {},
   "source": [
    "## 3. Write a Python program to find smallest number in a list?"
   ]
  },
  {
   "cell_type": "code",
   "execution_count": 18,
   "id": "b9962f26",
   "metadata": {},
   "outputs": [
    {
     "name": "stdout",
     "output_type": "stream",
     "text": [
      "Smallest element is:  2\n"
     ]
    }
   ],
   "source": [
    "l = [5,5,9,6,10,2,3]\n",
    "\n",
    "smallest = l[0]\n",
    "\n",
    "for i in l:\n",
    "    if i < smallest:\n",
    "        smallest = i\n",
    "        \n",
    "print(\"Smallest element is: \", smallest)"
   ]
  },
  {
   "cell_type": "code",
   "execution_count": 5,
   "id": "133123a3",
   "metadata": {},
   "outputs": [
    {
     "name": "stdout",
     "output_type": "stream",
     "text": [
      "Smallest number is:  26\n"
     ]
    }
   ],
   "source": [
    "# using sort method to find the smallest number in a list\n",
    "a = [66,85,94,63,26,52]\n",
    "a.sort()\n",
    "smallest = a[0]\n",
    "print(\"Smallest number is: \",smallest)"
   ]
  },
  {
   "cell_type": "code",
   "execution_count": 6,
   "id": "070a8fe5",
   "metadata": {},
   "outputs": [
    {
     "name": "stdout",
     "output_type": "stream",
     "text": [
      "Smallest number in the list is 12 .\n"
     ]
    }
   ],
   "source": [
    "# using the min Method and then returning the smallest element present in the list.\n",
    "a = [52,23,61,12,52]\n",
    "smallest = min(a)\n",
    "print(f\"Smallest number in the list is {smallest} .\")"
   ]
  },
  {
   "cell_type": "code",
   "execution_count": null,
   "id": "57481a3a",
   "metadata": {},
   "outputs": [],
   "source": []
  },
  {
   "cell_type": "markdown",
   "id": "85c548a0",
   "metadata": {},
   "source": [
    "# 4. Write a Python program to find largest number in a list?"
   ]
  },
  {
   "cell_type": "code",
   "execution_count": 19,
   "id": "d037c21e",
   "metadata": {},
   "outputs": [
    {
     "name": "stdout",
     "output_type": "stream",
     "text": [
      "Largest element is:  10\n"
     ]
    }
   ],
   "source": [
    "l = [5,5,9,6,10,2,3]\n",
    "\n",
    "largest = l[0]\n",
    "\n",
    "for i in l:\n",
    "    if i > largest:\n",
    "        largest = i\n",
    "        \n",
    "print(\"Largest element is: \", largest)"
   ]
  },
  {
   "cell_type": "code",
   "execution_count": 8,
   "id": "b90e6c65",
   "metadata": {},
   "outputs": [
    {
     "name": "stdout",
     "output_type": "stream",
     "text": [
      "largest number is:  94\n"
     ]
    }
   ],
   "source": [
    "# using sort method to find the largest number in a list\n",
    "a = [66,85,94,63,26,52]\n",
    "a.sort(reverse = True)\n",
    "largest = a[0]\n",
    "print(\"largest number is: \",largest)"
   ]
  },
  {
   "cell_type": "code",
   "execution_count": 9,
   "id": "59d7e341",
   "metadata": {},
   "outputs": [
    {
     "name": "stdout",
     "output_type": "stream",
     "text": [
      "largest number in the list is 61 .\n"
     ]
    }
   ],
   "source": [
    "# using the min Method and then returning the largest element present in the list.\n",
    "a = [52,23,61,12,52]\n",
    "largest = max(a)\n",
    "print(f\"largest number in the list is {largest} .\")"
   ]
  },
  {
   "cell_type": "code",
   "execution_count": null,
   "id": "059bed53",
   "metadata": {},
   "outputs": [],
   "source": []
  },
  {
   "cell_type": "markdown",
   "id": "d21ed308",
   "metadata": {},
   "source": [
    "## 5. Write a Python program to find second largest number in a list?"
   ]
  },
  {
   "cell_type": "code",
   "execution_count": 10,
   "id": "3065e2bf",
   "metadata": {},
   "outputs": [
    {
     "name": "stdout",
     "output_type": "stream",
     "text": [
      "The second largest number in a list is  89\n"
     ]
    }
   ],
   "source": [
    "l = [52,89,63,52,14,26,95]\n",
    "l.sort(reverse = True)\n",
    "\n",
    "print(\"The second largest number in a list is \", l[1])\n"
   ]
  },
  {
   "cell_type": "code",
   "execution_count": null,
   "id": "d1aa519c",
   "metadata": {},
   "outputs": [],
   "source": []
  },
  {
   "cell_type": "markdown",
   "id": "196376ae",
   "metadata": {},
   "source": [
    "## 6. Write a Python program to find N largest elements from a list?"
   ]
  },
  {
   "cell_type": "code",
   "execution_count": 11,
   "id": "b2a12d26",
   "metadata": {},
   "outputs": [],
   "source": [
    "def find_largest_element(s_list , n):\n",
    "    s_list.sort(reverse = True)\n",
    "    return s_list[:n]\n",
    "\n",
    "s_list = [45,85,63,14,23]"
   ]
  },
  {
   "cell_type": "code",
   "execution_count": 12,
   "id": "e65c28ba",
   "metadata": {},
   "outputs": [
    {
     "data": {
      "text/plain": [
       "[85, 63]"
      ]
     },
     "execution_count": 12,
     "metadata": {},
     "output_type": "execute_result"
    }
   ],
   "source": [
    "find_largest_element(s_list , 2)"
   ]
  },
  {
   "cell_type": "code",
   "execution_count": null,
   "id": "9e3e3d73",
   "metadata": {},
   "outputs": [],
   "source": []
  },
  {
   "cell_type": "markdown",
   "id": "9d6591b3",
   "metadata": {},
   "source": [
    "## 7. Write a Python program to print even numbers in a list?"
   ]
  },
  {
   "cell_type": "code",
   "execution_count": 13,
   "id": "b3003c7e",
   "metadata": {},
   "outputs": [
    {
     "name": "stdout",
     "output_type": "stream",
     "text": [
      "2\n",
      "4\n",
      "6\n"
     ]
    }
   ],
   "source": [
    "def print_even_numbers(list):\n",
    "    for element in list:\n",
    "        if element % 2 == 0:\n",
    "            print(element)\n",
    "\n",
    "# Test the function with a sample list\n",
    "sample_list = [1, 2, 3, 4, 5, 6]\n",
    "print_even_numbers(sample_list)"
   ]
  },
  {
   "cell_type": "code",
   "execution_count": null,
   "id": "6fb6cc09",
   "metadata": {},
   "outputs": [],
   "source": []
  },
  {
   "cell_type": "markdown",
   "id": "15d9a7f5",
   "metadata": {},
   "source": [
    "## 8. Write a Python program to print odd numbers in a List?"
   ]
  },
  {
   "cell_type": "code",
   "execution_count": 14,
   "id": "221d2b6c",
   "metadata": {},
   "outputs": [
    {
     "name": "stdout",
     "output_type": "stream",
     "text": [
      "1\n",
      "3\n",
      "5\n"
     ]
    }
   ],
   "source": [
    "def print_odd_numbers(list):\n",
    "    for element in list:\n",
    "        if element % 2 != 0:\n",
    "            print(element)\n",
    "\n",
    "# Test the function with a sample list\n",
    "sample_list = [1, 2, 3, 4, 5, 6]\n",
    "print_odd_numbers(sample_list)"
   ]
  },
  {
   "cell_type": "code",
   "execution_count": null,
   "id": "91835a40",
   "metadata": {},
   "outputs": [],
   "source": []
  },
  {
   "cell_type": "markdown",
   "id": "6e97fe96",
   "metadata": {},
   "source": [
    "## 9. Write a Python program to Remove empty List from List?"
   ]
  },
  {
   "cell_type": "code",
   "execution_count": 15,
   "id": "773343a5",
   "metadata": {},
   "outputs": [
    {
     "name": "stdout",
     "output_type": "stream",
     "text": [
      "Original list:\n",
      "[[], [], [], 'Red', 'Green', [1, 2], 'Blue', [], []]\n",
      "\n",
      "After deleting the empty lists from the said lists of lists\n",
      "['Red', 'Green', [1, 2], 'Blue']\n"
     ]
    }
   ],
   "source": [
    "list1 = [[], [], [], 'Red', 'Green', [1,2], 'Blue', [], []]\n",
    "print(\"Original list:\")\n",
    "print(list1)\n",
    "print(\"\\nAfter deleting the empty lists from the said lists of lists\")\n",
    "list2 = [x for x in list1 if x]\n",
    "print(list2)"
   ]
  },
  {
   "cell_type": "code",
   "execution_count": null,
   "id": "95932152",
   "metadata": {},
   "outputs": [],
   "source": []
  },
  {
   "cell_type": "markdown",
   "id": "4358f71a",
   "metadata": {},
   "source": [
    "## 10. Write a Python program to Cloning or Copying a list?"
   ]
  },
  {
   "cell_type": "code",
   "execution_count": 16,
   "id": "61d84e76",
   "metadata": {},
   "outputs": [
    {
     "name": "stdout",
     "output_type": "stream",
     "text": [
      "Original List: [4, 8, 2, 10, 15, 18]\n",
      "After Cloning: [4, 8, 2, 10, 15, 18]\n"
     ]
    }
   ],
   "source": [
    "# Using list comprehension\n",
    "def Cloning(li1):\n",
    "    li_copy = [i for i in li1]\n",
    "    return li_copy\n",
    "   \n",
    "li1 = [4, 8, 2, 10, 15, 18]\n",
    "li2 = Cloning(li1)\n",
    "\n",
    "print(\"Original List:\", li1)\n",
    "print(\"After Cloning:\", li2)"
   ]
  },
  {
   "cell_type": "code",
   "execution_count": null,
   "id": "272543e8",
   "metadata": {},
   "outputs": [],
   "source": []
  },
  {
   "cell_type": "markdown",
   "id": "4932625d",
   "metadata": {},
   "source": [
    "## 11. Write a Python program to Count occurrences of an element in a list?"
   ]
  },
  {
   "cell_type": "code",
   "execution_count": 17,
   "id": "09201a10",
   "metadata": {},
   "outputs": [
    {
     "name": "stdout",
     "output_type": "stream",
     "text": [
      "8 has occurred 4 times\n"
     ]
    }
   ],
   "source": [
    "def countx(lst , x):\n",
    "    count = 0\n",
    "    for ele in lst:\n",
    "        if (ele == x):\n",
    "            count += 1\n",
    "    return count\n",
    "\n",
    "lst = [8,9,5,8,6,2,8,8,6]\n",
    "x = 8\n",
    "print('{} has occurred {} times'.format(x , countx(lst , x)))"
   ]
  },
  {
   "cell_type": "code",
   "execution_count": null,
   "id": "78dda20d",
   "metadata": {},
   "outputs": [],
   "source": []
  }
 ],
 "metadata": {
  "kernelspec": {
   "display_name": "Python 3 (ipykernel)",
   "language": "python",
   "name": "python3"
  },
  "language_info": {
   "codemirror_mode": {
    "name": "ipython",
    "version": 3
   },
   "file_extension": ".py",
   "mimetype": "text/x-python",
   "name": "python",
   "nbconvert_exporter": "python",
   "pygments_lexer": "ipython3",
   "version": "3.9.7"
  }
 },
 "nbformat": 4,
 "nbformat_minor": 5
}
