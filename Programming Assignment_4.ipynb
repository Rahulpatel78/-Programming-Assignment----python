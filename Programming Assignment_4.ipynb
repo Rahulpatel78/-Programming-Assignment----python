{
 "cells": [
  {
   "cell_type": "markdown",
   "id": "070c931f",
   "metadata": {},
   "source": [
    "# 1. Write a Python Program to Find the Factorial of a Number?"
   ]
  },
  {
   "cell_type": "code",
   "execution_count": 1,
   "id": "906ad9e6",
   "metadata": {},
   "outputs": [
    {
     "name": "stdout",
     "output_type": "stream",
     "text": [
      "Enter the number5\n",
      "The factorial of 5 is 120\n"
     ]
    }
   ],
   "source": [
    "# factorial of a number using loop\n",
    "\n",
    "num = int(input('Enter the number'))\n",
    "factorial =1 \n",
    "\n",
    "if num < 0 :\n",
    "    print('There is no factorial of a negative number')\n",
    "elif num == 0 :\n",
    "    print(\"The factorial of num is 0\")\n",
    "else:\n",
    "    for i in range(1,num + 1):\n",
    "        factorial = factorial*i\n",
    "    print(\"The factorial of\",num,\"is\",factorial)"
   ]
  },
  {
   "cell_type": "markdown",
   "id": "21e1880c",
   "metadata": {},
   "source": [
    "# 2. Write a Python Program to Display the multiplication Table?"
   ]
  },
  {
   "cell_type": "code",
   "execution_count": 2,
   "id": "f7c30aea",
   "metadata": {},
   "outputs": [
    {
     "name": "stdout",
     "output_type": "stream",
     "text": [
      "The multiplication table of the number : 5\n",
      "5 x 1 = 5\n",
      "5 x 2 = 10\n",
      "5 x 3 = 15\n",
      "5 x 4 = 20\n",
      "5 x 5 = 25\n",
      "5 x 6 = 30\n",
      "5 x 7 = 35\n",
      "5 x 8 = 40\n",
      "5 x 9 = 45\n",
      "5 x 10 = 50\n"
     ]
    }
   ],
   "source": [
    "num = int(input('The multiplication table of the number : '))\n",
    "\n",
    "for i in range(1, 11):\n",
    "    print(num, 'x', i, '=', num*i)"
   ]
  },
  {
   "cell_type": "markdown",
   "id": "4f1e7ea9",
   "metadata": {},
   "source": [
    "# 3. Write a Python Program to Print the Fibonacci sequence?"
   ]
  },
  {
   "cell_type": "code",
   "execution_count": 3,
   "id": "3568c6a0",
   "metadata": {},
   "outputs": [
    {
     "name": "stdout",
     "output_type": "stream",
     "text": [
      "fibonacci sequence till 5\n",
      "0\n",
      "1\n",
      "1\n",
      "2\n",
      "3\n"
     ]
    }
   ],
   "source": [
    "nterm = int(input('fibonacci sequence till ')) \n",
    "\n",
    "n1 , n2 = 0 , 1\n",
    "count = 0 \n",
    "\n",
    "if nterm <= 0 :\n",
    "    print('Please enter the positive number')\n",
    "elif nterm == 1 :\n",
    "    print('The fibonacci sequance upto ', nterm)\n",
    "    print(n2)\n",
    "else:\n",
    "    while count < nterm :\n",
    "        print(n1)\n",
    "        nth = n1 + n2\n",
    "        #update values\n",
    "        n1 = n2 \n",
    "        n2 = nth\n",
    "        count += 1"
   ]
  },
  {
   "cell_type": "markdown",
   "id": "a3063b51",
   "metadata": {},
   "source": [
    "# 4. Write a Python Program to Check Armstrong Number?"
   ]
  },
  {
   "cell_type": "code",
   "execution_count": 4,
   "id": "8629a2a2",
   "metadata": {},
   "outputs": [],
   "source": [
    "def is_armstrong(num):\n",
    "    \n",
    "    #convert the number to a string and get the length\n",
    "    num_str = str(num)\n",
    "    num_len = len(num_str)\n",
    "    \n",
    "    sum = 0\n",
    "    \n",
    "    #interate through each digit of the number\n",
    "    for i in num_str:\n",
    "        # Convert the digit to an integer and raise it to the power of the number of digits\n",
    "        sum += int(i) ** num_len\n",
    "    \n",
    "  # Return True if the sum is equal to the original number, False otherwise\n",
    "    return sum == num\n",
    "\n",
    "    "
   ]
  },
  {
   "cell_type": "code",
   "execution_count": 5,
   "id": "ae6675a5",
   "metadata": {},
   "outputs": [
    {
     "name": "stdout",
     "output_type": "stream",
     "text": [
      "False\n"
     ]
    }
   ],
   "source": [
    "print(is_armstrong(521))"
   ]
  },
  {
   "cell_type": "code",
   "execution_count": 6,
   "id": "17065bde",
   "metadata": {},
   "outputs": [
    {
     "name": "stdout",
     "output_type": "stream",
     "text": [
      "True\n"
     ]
    }
   ],
   "source": [
    "print(is_armstrong(153))"
   ]
  },
  {
   "cell_type": "code",
   "execution_count": null,
   "id": "ed835923",
   "metadata": {},
   "outputs": [],
   "source": []
  },
  {
   "cell_type": "markdown",
   "id": "eee0f2e0",
   "metadata": {},
   "source": [
    "# 5. Write a Python Program to Find Armstrong Number in an Interval?"
   ]
  },
  {
   "cell_type": "code",
   "execution_count": 7,
   "id": "f520f70e",
   "metadata": {},
   "outputs": [],
   "source": [
    "def find_armstrong_in_interval(start, end):\n",
    "    \n",
    "    armstrong_numbers = []\n",
    "    \n",
    "    for num in range(start, end + 1):\n",
    "        num_str = str(num)\n",
    "        num_len = len(num_str)\n",
    "    \n",
    "        sum = 0\n",
    "    \n",
    "    #interate through each digit of the number\n",
    "        for i in num_str:\n",
    "        # Convert the digit to an integer and raise it to the power of the number of digits\n",
    "           sum += int(i) ** num_len\n",
    "    \n",
    "  # Return True if the sum is equal to the original number, False otherwise\n",
    "        if sum == num:\n",
    "            armstrong_numbers.append(num)\n",
    "            \n",
    "    return armstrong_numbers\n",
    "        \n"
   ]
  },
  {
   "cell_type": "code",
   "execution_count": 8,
   "id": "793a2960",
   "metadata": {},
   "outputs": [
    {
     "data": {
      "text/plain": [
       "[1, 2, 3, 4, 5, 6, 7, 8, 9, 153, 370, 371, 407]"
      ]
     },
     "execution_count": 8,
     "metadata": {},
     "output_type": "execute_result"
    }
   ],
   "source": [
    "find_armstrong_in_interval(1, 1000)"
   ]
  },
  {
   "cell_type": "markdown",
   "id": "4f908b43",
   "metadata": {},
   "source": [
    "# 6. Write a Python Program to Find the Sum of Natural Numbers?"
   ]
  },
  {
   "cell_type": "code",
   "execution_count": 9,
   "id": "ec9bcd80",
   "metadata": {},
   "outputs": [],
   "source": [
    "#By using function\n",
    "def sum_of_natural_number(num):\n",
    "    \n",
    "    sum = 0\n",
    "    \n",
    "    for i in range(1,num+1):\n",
    "        sum += i\n",
    "        \n",
    "    return sum"
   ]
  },
  {
   "cell_type": "code",
   "execution_count": 10,
   "id": "4e69afa1",
   "metadata": {},
   "outputs": [
    {
     "data": {
      "text/plain": [
       "1275"
      ]
     },
     "execution_count": 10,
     "metadata": {},
     "output_type": "execute_result"
    }
   ],
   "source": [
    "sum_of_natural_number(50)"
   ]
  },
  {
   "cell_type": "code",
   "execution_count": 1,
   "id": "b0bd2da2",
   "metadata": {},
   "outputs": [
    {
     "name": "stdout",
     "output_type": "stream",
     "text": [
      "Enter the number10\n",
      "The sum of 0 natural number is 55\n"
     ]
    }
   ],
   "source": [
    "#By using if else\n",
    "num = int(input('Enter the number'))\n",
    "\n",
    "if num < 0:\n",
    "    print('Enter the postitive number')\n",
    "else:\n",
    "    sum = 0\n",
    "    while (num > 0):\n",
    "        sum += num\n",
    "        num -= 1\n",
    "    print('The sum of {} natural number is {}'.format(num , sum))"
   ]
  },
  {
   "cell_type": "code",
   "execution_count": null,
   "id": "b55ce53b",
   "metadata": {},
   "outputs": [],
   "source": []
  },
  {
   "cell_type": "code",
   "execution_count": null,
   "id": "e4710d81",
   "metadata": {},
   "outputs": [],
   "source": []
  }
 ],
 "metadata": {
  "kernelspec": {
   "display_name": "Python 3 (ipykernel)",
   "language": "python",
   "name": "python3"
  },
  "language_info": {
   "codemirror_mode": {
    "name": "ipython",
    "version": 3
   },
   "file_extension": ".py",
   "mimetype": "text/x-python",
   "name": "python",
   "nbconvert_exporter": "python",
   "pygments_lexer": "ipython3",
   "version": "3.9.7"
  }
 },
 "nbformat": 4,
 "nbformat_minor": 5
}
