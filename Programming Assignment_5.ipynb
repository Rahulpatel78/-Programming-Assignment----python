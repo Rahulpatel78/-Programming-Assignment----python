{
 "cells": [
  {
   "cell_type": "markdown",
   "id": "d82698fb",
   "metadata": {},
   "source": [
    "# 1. Write a Python Program to Find LCM?"
   ]
  },
  {
   "cell_type": "code",
   "execution_count": 1,
   "id": "404e79e5",
   "metadata": {},
   "outputs": [
    {
     "name": "stdout",
     "output_type": "stream",
     "text": [
      "60\n"
     ]
    }
   ],
   "source": [
    "def LCM(a,b):\n",
    "    max_num = max(a,b)\n",
    "    LCM = max_num\n",
    "    while LCM % a != 0 or LCM % b != 0:\n",
    "        LCM += max_num\n",
    "    return LCM\n",
    "\n",
    "print(LCM(15,20))\n",
    "    "
   ]
  },
  {
   "cell_type": "markdown",
   "id": "1daf574b",
   "metadata": {},
   "source": [
    "# 2. Write a Python Program to Find HCF?"
   ]
  },
  {
   "cell_type": "code",
   "execution_count": 2,
   "id": "35ee93d6",
   "metadata": {},
   "outputs": [
    {
     "name": "stdout",
     "output_type": "stream",
     "text": [
      "10\n"
     ]
    }
   ],
   "source": [
    "def HCF(a,b):\n",
    "    min_num = min(a,b)\n",
    "    HCF = 1\n",
    "    for i in range(1,min_num+1):\n",
    "        if a % i == 0 and b % i == 0:\n",
    "            HCF = i\n",
    "    return HCF\n",
    "    \n",
    "print(HCF(10,20))"
   ]
  },
  {
   "cell_type": "markdown",
   "id": "51fba9eb",
   "metadata": {},
   "source": [
    "# 3. Write a Python Program to Convert Decimal to Binary, Octal and Hexadecimal?"
   ]
  },
  {
   "cell_type": "code",
   "execution_count": 3,
   "id": "b5f8c372",
   "metadata": {},
   "outputs": [
    {
     "name": "stdout",
     "output_type": "stream",
     "text": [
      "The decimal value of 344 is:\n",
      "0b101011000 in binary.\n",
      "0o530 in octal.\n",
      "0x158 in hexadecimal.\n"
     ]
    }
   ],
   "source": [
    "# Python program to convert decimal into other number systems\n",
    "dec = 344\n",
    "\n",
    "print(\"The decimal value of\", dec, \"is:\")\n",
    "print(bin(dec), \"in binary.\")\n",
    "print(oct(dec), \"in octal.\")\n",
    "print(hex(dec), \"in hexadecimal.\")"
   ]
  },
  {
   "cell_type": "markdown",
   "id": "efb8e265",
   "metadata": {},
   "source": [
    "# 4. Write a Python Program To Find ASCII value of a character?"
   ]
  },
  {
   "cell_type": "code",
   "execution_count": 4,
   "id": "7025a85d",
   "metadata": {},
   "outputs": [
    {
     "name": "stdout",
     "output_type": "stream",
     "text": [
      "The ASCII value of 'A' is 65\n",
      "The charater of the above ASCII vaue 65 is A\n"
     ]
    }
   ],
   "source": [
    "# Program to find the ASCII value of the given character\n",
    "\n",
    "c = 'A'\n",
    "print(\"The ASCII value of '\" + c + \"' is\", ord(c))\n",
    "\n",
    "num = 65\n",
    "print(\"The charater of the above ASCII vaue \" + '65' +\" is\" , chr(65) )"
   ]
  },
  {
   "cell_type": "markdown",
   "id": "020143cb",
   "metadata": {},
   "source": [
    "# 5. Write a Python Program to Make a Simple Calculator with 4 basic mathematical operations?"
   ]
  },
  {
   "cell_type": "code",
   "execution_count": 5,
   "id": "d54358de",
   "metadata": {},
   "outputs": [
    {
     "name": "stdout",
     "output_type": "stream",
     "text": [
      "Welcome to the calculator!\n",
      "Enter the first number: 5\n",
      "Enter the second number: 9\n",
      "Enter the operation (+, -, *, /): +\n",
      "Result: 14.0\n"
     ]
    }
   ],
   "source": [
    "def calculator():\n",
    "    # Print a welcome message\n",
    "    print(\"Welcome to the calculator!\")\n",
    "    \n",
    "    # Get the first number from the user\n",
    "    num1 = float(input(\"Enter the first number: \"))\n",
    "    \n",
    "    # Get the second number from the user\n",
    "    num2 = float(input(\"Enter the second number: \"))\n",
    "    \n",
    "    # Get the operation from the user\n",
    "    operation = input(\"Enter the operation (+, -, *, /): \")\n",
    "    \n",
    "    # Perform the requested operation\n",
    "    if operation == '+':\n",
    "        result = num1 + num2\n",
    "    elif operation == '-':\n",
    "        result = num1 - num2\n",
    "    elif operation == '*':\n",
    "        result = num1 * num2\n",
    "    elif operation == '/':\n",
    "        result = num1 / num2\n",
    "    else:\n",
    "        print(\"Invalid operator!\")\n",
    "        return\n",
    "    \n",
    "    # Print the result\n",
    "    print(f\"Result: {result}\")\n",
    "\n",
    "# Test the calculator\n",
    "calculator()\n"
   ]
  },
  {
   "cell_type": "code",
   "execution_count": null,
   "id": "01b2d889",
   "metadata": {},
   "outputs": [],
   "source": []
  }
 ],
 "metadata": {
  "kernelspec": {
   "display_name": "Python 3 (ipykernel)",
   "language": "python",
   "name": "python3"
  },
  "language_info": {
   "codemirror_mode": {
    "name": "ipython",
    "version": 3
   },
   "file_extension": ".py",
   "mimetype": "text/x-python",
   "name": "python",
   "nbconvert_exporter": "python",
   "pygments_lexer": "ipython3",
   "version": "3.9.7"
  }
 },
 "nbformat": 4,
 "nbformat_minor": 5
}
