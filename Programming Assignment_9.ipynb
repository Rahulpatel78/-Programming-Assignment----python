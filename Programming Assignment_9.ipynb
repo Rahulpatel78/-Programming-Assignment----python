{
 "cells": [
  {
   "cell_type": "markdown",
   "id": "b2a4df83",
   "metadata": {},
   "source": [
    "### 1. Write a Python program to check if the given number is a Disarium Number?"
   ]
  },
  {
   "cell_type": "code",
   "execution_count": 8,
   "id": "7a3a9082",
   "metadata": {},
   "outputs": [],
   "source": [
    "#A number is called Disarium if sum of its digits powered with their respective positions is equal to the number itself\n",
    "\n",
    "def is_disarium(num):\n",
    "    \n",
    "    num_str = str(num)\n",
    "    num_digit = len(num_str)\n",
    "    sum = 0\n",
    "    \n",
    "    for i in range(num_digit):\n",
    "        sum += int(num_str[i]) ** (i + 1)\n",
    "    return num == sum"
   ]
  },
  {
   "cell_type": "code",
   "execution_count": 9,
   "id": "c864c6d3",
   "metadata": {},
   "outputs": [
    {
     "data": {
      "text/plain": [
       "True"
      ]
     },
     "execution_count": 9,
     "metadata": {},
     "output_type": "execute_result"
    }
   ],
   "source": [
    "is_disarium(89)"
   ]
  },
  {
   "cell_type": "code",
   "execution_count": 10,
   "id": "e5ccb573",
   "metadata": {},
   "outputs": [
    {
     "data": {
      "text/plain": [
       "False"
      ]
     },
     "execution_count": 10,
     "metadata": {},
     "output_type": "execute_result"
    }
   ],
   "source": [
    "is_disarium(25)"
   ]
  },
  {
   "cell_type": "code",
   "execution_count": null,
   "id": "e3b601f2",
   "metadata": {},
   "outputs": [],
   "source": []
  },
  {
   "cell_type": "markdown",
   "id": "d55580a7",
   "metadata": {},
   "source": [
    "### 2. Write a Python program to print all disarium numbers between 1 to 100?"
   ]
  },
  {
   "cell_type": "code",
   "execution_count": 18,
   "id": "6537f47c",
   "metadata": {},
   "outputs": [
    {
     "name": "stdout",
     "output_type": "stream",
     "text": [
      "1\n",
      "2\n",
      "3\n",
      "4\n",
      "5\n",
      "6\n",
      "7\n",
      "8\n",
      "9\n",
      "89\n"
     ]
    }
   ],
   "source": [
    "def is_disarium(num):\n",
    "    \n",
    "    num_str = str(num)\n",
    "    num_digit = len(num_str)\n",
    "    sum = 0\n",
    "    \n",
    "    for i in range(num_digit):\n",
    "        sum += int(num_str[i]) ** (i + 1)\n",
    "    return num == sum\n",
    "\n",
    "for i in range(1,101):\n",
    "    if is_disarium(i):\n",
    "        print(i)"
   ]
  },
  {
   "cell_type": "code",
   "execution_count": null,
   "id": "afe462ea",
   "metadata": {},
   "outputs": [],
   "source": []
  },
  {
   "cell_type": "markdown",
   "id": "671af015",
   "metadata": {},
   "source": [
    "### 3. Write a Python program to check if the given number is Happy Number?"
   ]
  },
  {
   "cell_type": "code",
   "execution_count": 31,
   "id": "dfc9f50c",
   "metadata": {},
   "outputs": [
    {
     "name": "stdout",
     "output_type": "stream",
     "text": [
      "True\n",
      "False\n"
     ]
    }
   ],
   "source": [
    "#A happy number is a number that follows a certain sequence, \n",
    "#where each number is the sum of the squares of its digits until the number 1 is reached\n",
    "\n",
    "def is_happy(num):\n",
    "    seen = set()\n",
    "    while num not in seen:\n",
    "        seen.add(num)\n",
    "        num = sum(int(d)**2 for d in str(num))\n",
    "    return num == 1\n",
    "\n",
    "print(is_happy(7))  # True\n",
    "print(is_happy(22))  # False\n"
   ]
  },
  {
   "cell_type": "code",
   "execution_count": null,
   "id": "8af07994",
   "metadata": {},
   "outputs": [],
   "source": []
  },
  {
   "cell_type": "markdown",
   "id": "a38d6dd9",
   "metadata": {},
   "source": [
    "### 4. Write a Python program to print all happy numbers between 1 and 100?"
   ]
  },
  {
   "cell_type": "code",
   "execution_count": 32,
   "id": "deb024bc",
   "metadata": {},
   "outputs": [
    {
     "name": "stdout",
     "output_type": "stream",
     "text": [
      "1\n",
      "7\n",
      "10\n",
      "13\n",
      "19\n",
      "23\n",
      "28\n",
      "31\n",
      "32\n",
      "44\n",
      "49\n",
      "68\n",
      "70\n",
      "79\n",
      "82\n",
      "86\n",
      "91\n",
      "94\n",
      "97\n",
      "100\n"
     ]
    }
   ],
   "source": [
    "def is_happy(num):\n",
    "    seen = set()\n",
    "    while num not in seen:\n",
    "        seen.add(num)\n",
    "        num = sum(int(d)**2 for d in str(num))\n",
    "    return num == 1\n",
    "\n",
    "for i in range(1, 101):\n",
    "    if is_happy(i):\n",
    "        print(i)\n"
   ]
  },
  {
   "cell_type": "code",
   "execution_count": null,
   "id": "b2ea52a6",
   "metadata": {},
   "outputs": [],
   "source": []
  },
  {
   "cell_type": "markdown",
   "id": "30a744c7",
   "metadata": {},
   "source": [
    "###  5. Write a Python program to determine whether the given number is a Harshad Number?"
   ]
  },
  {
   "cell_type": "code",
   "execution_count": 27,
   "id": "23cda460",
   "metadata": {},
   "outputs": [],
   "source": [
    "#A Harshad number (also called a Niven number) is an integer that is divisible by the sum of its digits.\n",
    "\n",
    "def harshed_number(num):\n",
    "    \n",
    "    num_str = str(num)\n",
    "    num_digit = len(num_str)\n",
    "    \n",
    "    sum = 0\n",
    "    for i in num_str:\n",
    "        sum += int(i)\n",
    "        \n",
    "    return num % sum == 0"
   ]
  },
  {
   "cell_type": "code",
   "execution_count": 28,
   "id": "00b6218b",
   "metadata": {},
   "outputs": [
    {
     "data": {
      "text/plain": [
       "True"
      ]
     },
     "execution_count": 28,
     "metadata": {},
     "output_type": "execute_result"
    }
   ],
   "source": [
    "harshed_number(18)"
   ]
  },
  {
   "cell_type": "code",
   "execution_count": 29,
   "id": "259ac752",
   "metadata": {},
   "outputs": [
    {
     "data": {
      "text/plain": [
       "False"
      ]
     },
     "execution_count": 29,
     "metadata": {},
     "output_type": "execute_result"
    }
   ],
   "source": [
    "harshed_number(25)"
   ]
  },
  {
   "cell_type": "code",
   "execution_count": null,
   "id": "31c5f362",
   "metadata": {},
   "outputs": [],
   "source": []
  },
  {
   "cell_type": "markdown",
   "id": "76510524",
   "metadata": {},
   "source": [
    "### 6. Write a Python program to print all pronic numbers between 1 and 100?"
   ]
  },
  {
   "cell_type": "code",
   "execution_count": 30,
   "id": "ebfbc723",
   "metadata": {},
   "outputs": [
    {
     "name": "stdout",
     "output_type": "stream",
     "text": [
      "2\n",
      "6\n",
      "12\n",
      "20\n",
      "30\n",
      "42\n",
      "56\n",
      "72\n",
      "90\n"
     ]
    }
   ],
   "source": [
    "#A pronic number is a number which is the product of two consecutive integers, that is, a number of the form n(n+1) for some integer n. \n",
    "\n",
    "for n in range(1,101):\n",
    "    if n*(n+1) <=100:\n",
    "        print(n*(n+1))\n"
   ]
  },
  {
   "cell_type": "code",
   "execution_count": null,
   "id": "d3e105ba",
   "metadata": {},
   "outputs": [],
   "source": []
  }
 ],
 "metadata": {
  "kernelspec": {
   "display_name": "Python 3 (ipykernel)",
   "language": "python",
   "name": "python3"
  },
  "language_info": {
   "codemirror_mode": {
    "name": "ipython",
    "version": 3
   },
   "file_extension": ".py",
   "mimetype": "text/x-python",
   "name": "python",
   "nbconvert_exporter": "python",
   "pygments_lexer": "ipython3",
   "version": "3.9.7"
  }
 },
 "nbformat": 4,
 "nbformat_minor": 5
}
