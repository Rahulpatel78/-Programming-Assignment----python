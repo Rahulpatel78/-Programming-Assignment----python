{
 "cells": [
  {
   "cell_type": "markdown",
   "id": "e566ce1d",
   "metadata": {},
   "source": [
    "# 1. Write a Python Program to find sum of array?"
   ]
  },
  {
   "cell_type": "code",
   "execution_count": 1,
   "id": "42f5fb14",
   "metadata": {},
   "outputs": [],
   "source": [
    "# function to create the sum of array\n",
    "def sum(arr):\n",
    "    \n",
    "    total = 0\n",
    "    for i in arr:\n",
    "        total += i\n",
    "        \n",
    "    return total\n"
   ]
  },
  {
   "cell_type": "code",
   "execution_count": 2,
   "id": "a2ba7336",
   "metadata": {},
   "outputs": [
    {
     "data": {
      "text/plain": [
       "35"
      ]
     },
     "execution_count": 2,
     "metadata": {},
     "output_type": "execute_result"
    }
   ],
   "source": [
    "arr = [5,8,9,3,5,5]\n",
    "sum(arr)"
   ]
  },
  {
   "cell_type": "markdown",
   "id": "609c3b7b",
   "metadata": {},
   "source": [
    "# 2. Write a Python Program to find largest element in an array?"
   ]
  },
  {
   "cell_type": "code",
   "execution_count": null,
   "id": "a10ade92",
   "metadata": {},
   "outputs": [],
   "source": [
    "l = [8,6,9,2,3,7]"
   ]
  },
  {
   "cell_type": "code",
   "execution_count": 3,
   "id": "8bd325e0",
   "metadata": {},
   "outputs": [],
   "source": [
    "# function to find the largest element in an array\n",
    "def largest_element(arr):\n",
    "    \n",
    "    largest = arr[0]\n",
    "    \n",
    "    for i in arr:\n",
    "        if i > largest:\n",
    "            largest = i\n",
    "    return largest"
   ]
  },
  {
   "cell_type": "code",
   "execution_count": 4,
   "id": "04cf3858",
   "metadata": {},
   "outputs": [
    {
     "name": "stdout",
     "output_type": "stream",
     "text": [
      "8\n",
      "89\n"
     ]
    }
   ],
   "source": [
    "print(largest_element([5,8,1,3,6]))\n",
    "print(largest_element([26,12,89,52]))"
   ]
  },
  {
   "cell_type": "markdown",
   "id": "95f135ce",
   "metadata": {},
   "source": [
    "# 3. Write a Python Program for array rotation?"
   ]
  },
  {
   "cell_type": "code",
   "execution_count": 5,
   "id": "7f5d159a",
   "metadata": {},
   "outputs": [],
   "source": [
    "l = [4,5,9,6]"
   ]
  },
  {
   "cell_type": "code",
   "execution_count": 6,
   "id": "a8932610",
   "metadata": {},
   "outputs": [
    {
     "data": {
      "text/plain": [
       "[6, 9, 5, 4]"
      ]
     },
     "execution_count": 6,
     "metadata": {},
     "output_type": "execute_result"
    }
   ],
   "source": [
    "l[::-1]"
   ]
  },
  {
   "cell_type": "code",
   "execution_count": 7,
   "id": "a082e996",
   "metadata": {},
   "outputs": [],
   "source": [
    "def rotate_array(arr, k):\n",
    "  # Rotate the array by shifting the elements to the right by k positions\n",
    "  return arr[k:] + arr[:k]"
   ]
  },
  {
   "cell_type": "code",
   "execution_count": 8,
   "id": "e7eff266",
   "metadata": {},
   "outputs": [
    {
     "name": "stdout",
     "output_type": "stream",
     "text": [
      "[5, 8, 6, 9, 2, 4]\n"
     ]
    }
   ],
   "source": [
    "print(rotate_array([4,5,8,6,9,2],1))"
   ]
  },
  {
   "cell_type": "code",
   "execution_count": null,
   "id": "a948eb1e",
   "metadata": {},
   "outputs": [],
   "source": []
  },
  {
   "cell_type": "code",
   "execution_count": null,
   "id": "e66015a6",
   "metadata": {},
   "outputs": [],
   "source": []
  },
  {
   "cell_type": "code",
   "execution_count": null,
   "id": "5b3f2ae1",
   "metadata": {},
   "outputs": [],
   "source": []
  },
  {
   "cell_type": "markdown",
   "id": "eb57f5b2",
   "metadata": {},
   "source": [
    "# 4. Write a Python Program to Split the array and add the first part to the end?"
   ]
  },
  {
   "cell_type": "code",
   "execution_count": 9,
   "id": "b8f45f77",
   "metadata": {},
   "outputs": [],
   "source": [
    "def split_the_arry(arr,n):\n",
    "    first_part =arr[:n]\n",
    "    second_part =arr[n:]\n",
    "    \n",
    "    return second_part,first_part"
   ]
  },
  {
   "cell_type": "code",
   "execution_count": 10,
   "id": "5e32317f",
   "metadata": {},
   "outputs": [
    {
     "name": "stdout",
     "output_type": "stream",
     "text": [
      "([3, 5], [7, 5, 9, 6])\n"
     ]
    }
   ],
   "source": [
    "print(split_the_arry([7,5,9,6,3,5],4))"
   ]
  },
  {
   "cell_type": "code",
   "execution_count": null,
   "id": "ac5e802d",
   "metadata": {},
   "outputs": [],
   "source": []
  },
  {
   "cell_type": "markdown",
   "id": "195e37d3",
   "metadata": {},
   "source": [
    "# 5. Write a Python Program to check if given array is Monotonic?"
   ]
  },
  {
   "cell_type": "code",
   "execution_count": 11,
   "id": "4e4df6e9",
   "metadata": {},
   "outputs": [],
   "source": [
    "def monotonic(arr):\n",
    "    \n",
    "    increasing = True\n",
    "    for i in range(1,len(arr)):\n",
    "        if arr[i] < arr[i-1]:\n",
    "            increasing = False\n",
    "            break\n",
    "            \n",
    "    decreasing = True\n",
    "    for i in range(1, len(arr)):\n",
    "        if arr[i] > arr[i-1]:\n",
    "            decreasing = False\n",
    "            break\n",
    "            \n",
    "    return increasing or decreasing\n",
    "\n"
   ]
  },
  {
   "cell_type": "code",
   "execution_count": 12,
   "id": "9c39a664",
   "metadata": {},
   "outputs": [
    {
     "name": "stdout",
     "output_type": "stream",
     "text": [
      "True\n"
     ]
    }
   ],
   "source": [
    "print(monotonic([4,5,6,8]))"
   ]
  },
  {
   "cell_type": "code",
   "execution_count": 13,
   "id": "384cd31d",
   "metadata": {},
   "outputs": [
    {
     "name": "stdout",
     "output_type": "stream",
     "text": [
      "False\n"
     ]
    }
   ],
   "source": [
    "print(monotonic([15,85,62,85]))"
   ]
  },
  {
   "cell_type": "code",
   "execution_count": null,
   "id": "e334febb",
   "metadata": {},
   "outputs": [],
   "source": []
  }
 ],
 "metadata": {
  "kernelspec": {
   "display_name": "Python 3 (ipykernel)",
   "language": "python",
   "name": "python3"
  },
  "language_info": {
   "codemirror_mode": {
    "name": "ipython",
    "version": 3
   },
   "file_extension": ".py",
   "mimetype": "text/x-python",
   "name": "python",
   "nbconvert_exporter": "python",
   "pygments_lexer": "ipython3",
   "version": "3.9.7"
  }
 },
 "nbformat": 4,
 "nbformat_minor": 5
}
